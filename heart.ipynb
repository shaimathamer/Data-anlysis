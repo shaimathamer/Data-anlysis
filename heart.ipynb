{
  "nbformat": 4,
  "nbformat_minor": 0,
  "metadata": {
    "colab": {
      "name": "heart",
      "provenance": [],
      "include_colab_link": true
    },
    "kernelspec": {
      "name": "python3",
      "display_name": "Python 3"
    }
  },
  "cells": [
    {
      "cell_type": "markdown",
      "metadata": {
        "id": "view-in-github",
        "colab_type": "text"
      },
      "source": [
        "<a href=\"https://colab.research.google.com/github/shaimathamer/Data-anlysis/blob/main/heart.ipynb\" target=\"_parent\"><img src=\"https://colab.research.google.com/assets/colab-badge.svg\" alt=\"Open In Colab\"/></a>"
      ]
    },
    {
      "cell_type": "markdown",
      "metadata": {
        "id": "ayr9EWVBQ94r"
      },
      "source": [
        "# (heart)\r\n",
        "## by (Shaima AHMED)\r\n",
        "\r\n",
        ">** The data gives an overview of the diseases of those afflicted with the heart and predict the person can have heart disease or not based on the characteristics that has**"
      ]
    },
    {
      "cell_type": "markdown",
      "metadata": {
        "id": "y-jVFbL-i-z2"
      },
      "source": [
        "\r\n",
        "\r\n",
        "```\r\n",
        "# import libraries\r\n",
        "```\r\n",
        "\r\n"
      ]
    },
    {
      "cell_type": "code",
      "metadata": {
        "id": "umdBfuyYR3gE"
      },
      "source": [
        "import pandas as pd\r\n",
        "import numpy as np\r\n",
        "import matplotlib.pyplot as plt\r\n",
        "import seaborn as se\r\n",
        "from termcolor import colored\r\n",
        "from pandas.plotting import scatter_matrix\r\n",
        "from matplotlib import pyplot"
      ],
      "execution_count": null,
      "outputs": []
    },
    {
      "cell_type": "code",
      "metadata": {
        "colab": {
          "base_uri": "https://localhost:8080/"
        },
        "id": "XmQ2Bw3GI8Rk",
        "outputId": "c8d63369-cf16-45f4-c0bb-8214c30077c7"
      },
      "source": [
        "from google.colab import drive\n",
        "drive.mount('/content/drive')"
      ],
      "execution_count": null,
      "outputs": [
        {
          "output_type": "stream",
          "text": [
            "Mounted at /content/drive\n"
          ],
          "name": "stdout"
        }
      ]
    },
    {
      "cell_type": "markdown",
      "metadata": {
        "id": "yQb23S22jL_w"
      },
      "source": [
        "```\r\n",
        "#import your dataset \r\n",
        "```"
      ]
    },
    {
      "cell_type": "code",
      "metadata": {
        "id": "Nrzk3aAGjLvb"
      },
      "source": [
        "file= pd.read_csv('/content/drive/MyDrive/heart.csv')"
      ],
      "execution_count": null,
      "outputs": []
    },
    {
      "cell_type": "code",
      "metadata": {
        "id": "4boToRsISAlK",
        "colab": {
          "base_uri": "https://localhost:8080/",
          "height": 317
        },
        "outputId": "693345b4-861d-4ecf-d1fc-f9ed62f1df46"
      },
      "source": [
        "file.describe()"
      ],
      "execution_count": null,
      "outputs": [
        {
          "output_type": "execute_result",
          "data": {
            "text/html": [
              "<div>\n",
              "<style scoped>\n",
              "    .dataframe tbody tr th:only-of-type {\n",
              "        vertical-align: middle;\n",
              "    }\n",
              "\n",
              "    .dataframe tbody tr th {\n",
              "        vertical-align: top;\n",
              "    }\n",
              "\n",
              "    .dataframe thead th {\n",
              "        text-align: right;\n",
              "    }\n",
              "</style>\n",
              "<table border=\"1\" class=\"dataframe\">\n",
              "  <thead>\n",
              "    <tr style=\"text-align: right;\">\n",
              "      <th></th>\n",
              "      <th>age</th>\n",
              "      <th>sex</th>\n",
              "      <th>cp</th>\n",
              "      <th>trestbps</th>\n",
              "      <th>chol</th>\n",
              "      <th>fbs</th>\n",
              "      <th>restecg</th>\n",
              "      <th>thalach</th>\n",
              "      <th>exang</th>\n",
              "      <th>oldpeak</th>\n",
              "      <th>slope</th>\n",
              "      <th>ca</th>\n",
              "      <th>thal</th>\n",
              "      <th>target</th>\n",
              "    </tr>\n",
              "  </thead>\n",
              "  <tbody>\n",
              "    <tr>\n",
              "      <th>count</th>\n",
              "      <td>303.000000</td>\n",
              "      <td>303.000000</td>\n",
              "      <td>303.000000</td>\n",
              "      <td>303.000000</td>\n",
              "      <td>303.000000</td>\n",
              "      <td>303.000000</td>\n",
              "      <td>303.000000</td>\n",
              "      <td>303.000000</td>\n",
              "      <td>303.000000</td>\n",
              "      <td>303.000000</td>\n",
              "      <td>303.000000</td>\n",
              "      <td>303.000000</td>\n",
              "      <td>303.000000</td>\n",
              "      <td>303.000000</td>\n",
              "    </tr>\n",
              "    <tr>\n",
              "      <th>mean</th>\n",
              "      <td>54.366337</td>\n",
              "      <td>0.683168</td>\n",
              "      <td>0.966997</td>\n",
              "      <td>131.623762</td>\n",
              "      <td>246.264026</td>\n",
              "      <td>0.148515</td>\n",
              "      <td>0.528053</td>\n",
              "      <td>149.646865</td>\n",
              "      <td>0.326733</td>\n",
              "      <td>1.039604</td>\n",
              "      <td>1.399340</td>\n",
              "      <td>0.729373</td>\n",
              "      <td>2.313531</td>\n",
              "      <td>0.544554</td>\n",
              "    </tr>\n",
              "    <tr>\n",
              "      <th>std</th>\n",
              "      <td>9.082101</td>\n",
              "      <td>0.466011</td>\n",
              "      <td>1.032052</td>\n",
              "      <td>17.538143</td>\n",
              "      <td>51.830751</td>\n",
              "      <td>0.356198</td>\n",
              "      <td>0.525860</td>\n",
              "      <td>22.905161</td>\n",
              "      <td>0.469794</td>\n",
              "      <td>1.161075</td>\n",
              "      <td>0.616226</td>\n",
              "      <td>1.022606</td>\n",
              "      <td>0.612277</td>\n",
              "      <td>0.498835</td>\n",
              "    </tr>\n",
              "    <tr>\n",
              "      <th>min</th>\n",
              "      <td>29.000000</td>\n",
              "      <td>0.000000</td>\n",
              "      <td>0.000000</td>\n",
              "      <td>94.000000</td>\n",
              "      <td>126.000000</td>\n",
              "      <td>0.000000</td>\n",
              "      <td>0.000000</td>\n",
              "      <td>71.000000</td>\n",
              "      <td>0.000000</td>\n",
              "      <td>0.000000</td>\n",
              "      <td>0.000000</td>\n",
              "      <td>0.000000</td>\n",
              "      <td>0.000000</td>\n",
              "      <td>0.000000</td>\n",
              "    </tr>\n",
              "    <tr>\n",
              "      <th>25%</th>\n",
              "      <td>47.500000</td>\n",
              "      <td>0.000000</td>\n",
              "      <td>0.000000</td>\n",
              "      <td>120.000000</td>\n",
              "      <td>211.000000</td>\n",
              "      <td>0.000000</td>\n",
              "      <td>0.000000</td>\n",
              "      <td>133.500000</td>\n",
              "      <td>0.000000</td>\n",
              "      <td>0.000000</td>\n",
              "      <td>1.000000</td>\n",
              "      <td>0.000000</td>\n",
              "      <td>2.000000</td>\n",
              "      <td>0.000000</td>\n",
              "    </tr>\n",
              "    <tr>\n",
              "      <th>50%</th>\n",
              "      <td>55.000000</td>\n",
              "      <td>1.000000</td>\n",
              "      <td>1.000000</td>\n",
              "      <td>130.000000</td>\n",
              "      <td>240.000000</td>\n",
              "      <td>0.000000</td>\n",
              "      <td>1.000000</td>\n",
              "      <td>153.000000</td>\n",
              "      <td>0.000000</td>\n",
              "      <td>0.800000</td>\n",
              "      <td>1.000000</td>\n",
              "      <td>0.000000</td>\n",
              "      <td>2.000000</td>\n",
              "      <td>1.000000</td>\n",
              "    </tr>\n",
              "    <tr>\n",
              "      <th>75%</th>\n",
              "      <td>61.000000</td>\n",
              "      <td>1.000000</td>\n",
              "      <td>2.000000</td>\n",
              "      <td>140.000000</td>\n",
              "      <td>274.500000</td>\n",
              "      <td>0.000000</td>\n",
              "      <td>1.000000</td>\n",
              "      <td>166.000000</td>\n",
              "      <td>1.000000</td>\n",
              "      <td>1.600000</td>\n",
              "      <td>2.000000</td>\n",
              "      <td>1.000000</td>\n",
              "      <td>3.000000</td>\n",
              "      <td>1.000000</td>\n",
              "    </tr>\n",
              "    <tr>\n",
              "      <th>max</th>\n",
              "      <td>77.000000</td>\n",
              "      <td>1.000000</td>\n",
              "      <td>3.000000</td>\n",
              "      <td>200.000000</td>\n",
              "      <td>564.000000</td>\n",
              "      <td>1.000000</td>\n",
              "      <td>2.000000</td>\n",
              "      <td>202.000000</td>\n",
              "      <td>1.000000</td>\n",
              "      <td>6.200000</td>\n",
              "      <td>2.000000</td>\n",
              "      <td>4.000000</td>\n",
              "      <td>3.000000</td>\n",
              "      <td>1.000000</td>\n",
              "    </tr>\n",
              "  </tbody>\n",
              "</table>\n",
              "</div>"
            ],
            "text/plain": [
              "              age         sex          cp  ...          ca        thal      target\n",
              "count  303.000000  303.000000  303.000000  ...  303.000000  303.000000  303.000000\n",
              "mean    54.366337    0.683168    0.966997  ...    0.729373    2.313531    0.544554\n",
              "std      9.082101    0.466011    1.032052  ...    1.022606    0.612277    0.498835\n",
              "min     29.000000    0.000000    0.000000  ...    0.000000    0.000000    0.000000\n",
              "25%     47.500000    0.000000    0.000000  ...    0.000000    2.000000    0.000000\n",
              "50%     55.000000    1.000000    1.000000  ...    0.000000    2.000000    1.000000\n",
              "75%     61.000000    1.000000    2.000000  ...    1.000000    3.000000    1.000000\n",
              "max     77.000000    1.000000    3.000000  ...    4.000000    3.000000    1.000000\n",
              "\n",
              "[8 rows x 14 columns]"
            ]
          },
          "metadata": {
            "tags": []
          },
          "execution_count": 5
        }
      ]
    },
    {
      "cell_type": "code",
      "metadata": {
        "id": "YujsZCQNUfwX",
        "colab": {
          "base_uri": "https://localhost:8080/",
          "height": 204
        },
        "outputId": "582b78e7-64f5-4a3f-ac89-4ae73c674ec8"
      },
      "source": [
        "file.head()"
      ],
      "execution_count": null,
      "outputs": [
        {
          "output_type": "execute_result",
          "data": {
            "text/html": [
              "<div>\n",
              "<style scoped>\n",
              "    .dataframe tbody tr th:only-of-type {\n",
              "        vertical-align: middle;\n",
              "    }\n",
              "\n",
              "    .dataframe tbody tr th {\n",
              "        vertical-align: top;\n",
              "    }\n",
              "\n",
              "    .dataframe thead th {\n",
              "        text-align: right;\n",
              "    }\n",
              "</style>\n",
              "<table border=\"1\" class=\"dataframe\">\n",
              "  <thead>\n",
              "    <tr style=\"text-align: right;\">\n",
              "      <th></th>\n",
              "      <th>age</th>\n",
              "      <th>sex</th>\n",
              "      <th>cp</th>\n",
              "      <th>trestbps</th>\n",
              "      <th>chol</th>\n",
              "      <th>fbs</th>\n",
              "      <th>restecg</th>\n",
              "      <th>thalach</th>\n",
              "      <th>exang</th>\n",
              "      <th>oldpeak</th>\n",
              "      <th>slope</th>\n",
              "      <th>ca</th>\n",
              "      <th>thal</th>\n",
              "      <th>target</th>\n",
              "    </tr>\n",
              "  </thead>\n",
              "  <tbody>\n",
              "    <tr>\n",
              "      <th>0</th>\n",
              "      <td>63</td>\n",
              "      <td>1</td>\n",
              "      <td>3</td>\n",
              "      <td>145</td>\n",
              "      <td>233</td>\n",
              "      <td>1</td>\n",
              "      <td>0</td>\n",
              "      <td>150</td>\n",
              "      <td>0</td>\n",
              "      <td>2.3</td>\n",
              "      <td>0</td>\n",
              "      <td>0</td>\n",
              "      <td>1</td>\n",
              "      <td>1</td>\n",
              "    </tr>\n",
              "    <tr>\n",
              "      <th>1</th>\n",
              "      <td>37</td>\n",
              "      <td>1</td>\n",
              "      <td>2</td>\n",
              "      <td>130</td>\n",
              "      <td>250</td>\n",
              "      <td>0</td>\n",
              "      <td>1</td>\n",
              "      <td>187</td>\n",
              "      <td>0</td>\n",
              "      <td>3.5</td>\n",
              "      <td>0</td>\n",
              "      <td>0</td>\n",
              "      <td>2</td>\n",
              "      <td>1</td>\n",
              "    </tr>\n",
              "    <tr>\n",
              "      <th>2</th>\n",
              "      <td>41</td>\n",
              "      <td>0</td>\n",
              "      <td>1</td>\n",
              "      <td>130</td>\n",
              "      <td>204</td>\n",
              "      <td>0</td>\n",
              "      <td>0</td>\n",
              "      <td>172</td>\n",
              "      <td>0</td>\n",
              "      <td>1.4</td>\n",
              "      <td>2</td>\n",
              "      <td>0</td>\n",
              "      <td>2</td>\n",
              "      <td>1</td>\n",
              "    </tr>\n",
              "    <tr>\n",
              "      <th>3</th>\n",
              "      <td>56</td>\n",
              "      <td>1</td>\n",
              "      <td>1</td>\n",
              "      <td>120</td>\n",
              "      <td>236</td>\n",
              "      <td>0</td>\n",
              "      <td>1</td>\n",
              "      <td>178</td>\n",
              "      <td>0</td>\n",
              "      <td>0.8</td>\n",
              "      <td>2</td>\n",
              "      <td>0</td>\n",
              "      <td>2</td>\n",
              "      <td>1</td>\n",
              "    </tr>\n",
              "    <tr>\n",
              "      <th>4</th>\n",
              "      <td>57</td>\n",
              "      <td>0</td>\n",
              "      <td>0</td>\n",
              "      <td>120</td>\n",
              "      <td>354</td>\n",
              "      <td>0</td>\n",
              "      <td>1</td>\n",
              "      <td>163</td>\n",
              "      <td>1</td>\n",
              "      <td>0.6</td>\n",
              "      <td>2</td>\n",
              "      <td>0</td>\n",
              "      <td>2</td>\n",
              "      <td>1</td>\n",
              "    </tr>\n",
              "  </tbody>\n",
              "</table>\n",
              "</div>"
            ],
            "text/plain": [
              "   age  sex  cp  trestbps  chol  fbs  ...  exang  oldpeak  slope  ca  thal  target\n",
              "0   63    1   3       145   233    1  ...      0      2.3      0   0     1       1\n",
              "1   37    1   2       130   250    0  ...      0      3.5      0   0     2       1\n",
              "2   41    0   1       130   204    0  ...      0      1.4      2   0     2       1\n",
              "3   56    1   1       120   236    0  ...      0      0.8      2   0     2       1\n",
              "4   57    0   0       120   354    0  ...      1      0.6      2   0     2       1\n",
              "\n",
              "[5 rows x 14 columns]"
            ]
          },
          "metadata": {
            "tags": []
          },
          "execution_count": 59
        }
      ]
    },
    {
      "cell_type": "markdown",
      "metadata": {
        "id": "-nuytgg_KHAT"
      },
      "source": [
        "We are lucky ,all the data is numerical so we can go directly to the operations,lets go !"
      ]
    },
    {
      "cell_type": "markdown",
      "metadata": {
        "id": "sAwHgcMpYDmi"
      },
      "source": [
        "**Find the mean, median, standard deviation**"
      ]
    },
    {
      "cell_type": "code",
      "metadata": {
        "colab": {
          "base_uri": "https://localhost:8080/"
        },
        "id": "bDykRwooN3v4",
        "outputId": "dc91c5e4-c35b-4a4a-9d0f-a01c3e0831b7"
      },
      "source": [
        "for col in file.columns:\r\n",
        "  mean_col=np.mean(file[col])\r\n",
        "  median_col=np.median(file[col])\r\n",
        "  stand_col=np.std(file[col])\r\n",
        "  print(colored(col,'red'),':',colored('Mean :','blue'),\r\n",
        "  mean_col,colored('Median:','blue'),median_col,colored('Standard deviation:','blue'),stand_col)\r\n",
        "\r\n",
        "\r\n",
        "  \r\n",
        "    \r\n",
        "  "
      ],
      "execution_count": null,
      "outputs": [
        {
          "output_type": "stream",
          "text": [
            "\u001b[31mage\u001b[0m : \u001b[34mMean :\u001b[0m 54.366336633663366 \u001b[34mMedian:\u001b[0m 55.0 \u001b[34mStandard deviation:\u001b[0m 9.067101638577872\n",
            "\u001b[31msex\u001b[0m : \u001b[34mMean :\u001b[0m 0.6831683168316832 \u001b[34mMedian:\u001b[0m 1.0 \u001b[34mStandard deviation:\u001b[0m 0.46524119304834705\n",
            "\u001b[31mcp\u001b[0m : \u001b[34mMean :\u001b[0m 0.966996699669967 \u001b[34mMedian:\u001b[0m 1.0 \u001b[34mStandard deviation:\u001b[0m 1.0303480250839467\n",
            "\u001b[31mtrestbps\u001b[0m : \u001b[34mMean :\u001b[0m 131.62376237623764 \u001b[34mMedian:\u001b[0m 130.0 \u001b[34mStandard deviation:\u001b[0m 17.509178065734385\n",
            "\u001b[31mchol\u001b[0m : \u001b[34mMean :\u001b[0m 246.26402640264027 \u001b[34mMedian:\u001b[0m 240.0 \u001b[34mStandard deviation:\u001b[0m 51.74515101045714\n",
            "\u001b[31mfbs\u001b[0m : \u001b[34mMean :\u001b[0m 0.1485148514851485 \u001b[34mMedian:\u001b[0m 0.0 \u001b[34mStandard deviation:\u001b[0m 0.3556096038825336\n",
            "\u001b[31mrestecg\u001b[0m : \u001b[34mMean :\u001b[0m 0.528052805280528 \u001b[34mMedian:\u001b[0m 1.0 \u001b[34mStandard deviation:\u001b[0m 0.5249911240963213\n",
            "\u001b[31mthalach\u001b[0m : \u001b[34mMean :\u001b[0m 149.64686468646866 \u001b[34mMedian:\u001b[0m 153.0 \u001b[34mStandard deviation:\u001b[0m 22.867332581889233\n",
            "\u001b[31mexang\u001b[0m : \u001b[34mMean :\u001b[0m 0.32673267326732675 \u001b[34mMedian:\u001b[0m 0.0 \u001b[34mStandard deviation:\u001b[0m 0.4690185854386941\n",
            "\u001b[31moldpeak\u001b[0m : \u001b[34mMean :\u001b[0m 1.0396039603960396 \u001b[34mMedian:\u001b[0m 0.8 \u001b[34mStandard deviation:\u001b[0m 1.1591574732421361\n",
            "\u001b[31mslope\u001b[0m : \u001b[34mMean :\u001b[0m 1.3993399339933994 \u001b[34mMedian:\u001b[0m 1.0 \u001b[34mStandard deviation:\u001b[0m 0.6152084301256662\n",
            "\u001b[31mca\u001b[0m : \u001b[34mMean :\u001b[0m 0.7293729372937293 \u001b[34mMedian:\u001b[0m 0.0 \u001b[34mStandard deviation:\u001b[0m 1.0209175011165654\n",
            "\u001b[31mthal\u001b[0m : \u001b[34mMean :\u001b[0m 2.3135313531353137 \u001b[34mMedian:\u001b[0m 2.0 \u001b[34mStandard deviation:\u001b[0m 0.6112653149988241\n",
            "\u001b[31mtarget\u001b[0m : \u001b[34mMean :\u001b[0m 0.5445544554455446 \u001b[34mMedian:\u001b[0m 1.0 \u001b[34mStandard deviation:\u001b[0m 0.49801094415680486\n"
          ],
          "name": "stdout"
        }
      ]
    },
    {
      "cell_type": "markdown",
      "metadata": {
        "id": "ih-gH_lKY7io"
      },
      "source": [
        "**Create a normalized form whose values range exactly between 0 and 1 so that the minimum has value 0 and maximum has value 1.**"
      ]
    },
    {
      "cell_type": "code",
      "metadata": {
        "id": "9_RTGZHwY8Ne",
        "colab": {
          "base_uri": "https://localhost:8080/",
          "height": 224
        },
        "outputId": "21b3f0fa-1c5d-45ee-d7d9-29edf14aeb8e"
      },
      "source": [
        "file_copy=file.copy()\r\n",
        "file_copy.head()\r\n",
        "for col in file.columns:\r\n",
        "    mean_col=np.min(file[col])\r\n",
        "    stand_col=np.max(file[col])\r\n",
        "    file[col]=(file[col]-mean_col)/(mean_col-stand_col)\r\n",
        "\r\n",
        "\r\n",
        "file.head()\r\n",
        "    "
      ],
      "execution_count": null,
      "outputs": [
        {
          "output_type": "execute_result",
          "data": {
            "text/html": [
              "<div>\n",
              "<style scoped>\n",
              "    .dataframe tbody tr th:only-of-type {\n",
              "        vertical-align: middle;\n",
              "    }\n",
              "\n",
              "    .dataframe tbody tr th {\n",
              "        vertical-align: top;\n",
              "    }\n",
              "\n",
              "    .dataframe thead th {\n",
              "        text-align: right;\n",
              "    }\n",
              "</style>\n",
              "<table border=\"1\" class=\"dataframe\">\n",
              "  <thead>\n",
              "    <tr style=\"text-align: right;\">\n",
              "      <th></th>\n",
              "      <th>age</th>\n",
              "      <th>sex</th>\n",
              "      <th>cp</th>\n",
              "      <th>trestbps</th>\n",
              "      <th>chol</th>\n",
              "      <th>fbs</th>\n",
              "      <th>restecg</th>\n",
              "      <th>thalach</th>\n",
              "      <th>exang</th>\n",
              "      <th>oldpeak</th>\n",
              "      <th>slope</th>\n",
              "      <th>ca</th>\n",
              "      <th>thal</th>\n",
              "      <th>target</th>\n",
              "    </tr>\n",
              "  </thead>\n",
              "  <tbody>\n",
              "    <tr>\n",
              "      <th>0</th>\n",
              "      <td>-0.708333</td>\n",
              "      <td>-1.0</td>\n",
              "      <td>-1.000000</td>\n",
              "      <td>-0.481132</td>\n",
              "      <td>-0.244292</td>\n",
              "      <td>-1.0</td>\n",
              "      <td>-0.0</td>\n",
              "      <td>-0.603053</td>\n",
              "      <td>-0.0</td>\n",
              "      <td>-0.370968</td>\n",
              "      <td>-0.0</td>\n",
              "      <td>-0.0</td>\n",
              "      <td>-0.333333</td>\n",
              "      <td>-1.0</td>\n",
              "    </tr>\n",
              "    <tr>\n",
              "      <th>1</th>\n",
              "      <td>-0.166667</td>\n",
              "      <td>-1.0</td>\n",
              "      <td>-0.666667</td>\n",
              "      <td>-0.339623</td>\n",
              "      <td>-0.283105</td>\n",
              "      <td>-0.0</td>\n",
              "      <td>-0.5</td>\n",
              "      <td>-0.885496</td>\n",
              "      <td>-0.0</td>\n",
              "      <td>-0.564516</td>\n",
              "      <td>-0.0</td>\n",
              "      <td>-0.0</td>\n",
              "      <td>-0.666667</td>\n",
              "      <td>-1.0</td>\n",
              "    </tr>\n",
              "    <tr>\n",
              "      <th>2</th>\n",
              "      <td>-0.250000</td>\n",
              "      <td>-0.0</td>\n",
              "      <td>-0.333333</td>\n",
              "      <td>-0.339623</td>\n",
              "      <td>-0.178082</td>\n",
              "      <td>-0.0</td>\n",
              "      <td>-0.0</td>\n",
              "      <td>-0.770992</td>\n",
              "      <td>-0.0</td>\n",
              "      <td>-0.225806</td>\n",
              "      <td>-1.0</td>\n",
              "      <td>-0.0</td>\n",
              "      <td>-0.666667</td>\n",
              "      <td>-1.0</td>\n",
              "    </tr>\n",
              "    <tr>\n",
              "      <th>3</th>\n",
              "      <td>-0.562500</td>\n",
              "      <td>-1.0</td>\n",
              "      <td>-0.333333</td>\n",
              "      <td>-0.245283</td>\n",
              "      <td>-0.251142</td>\n",
              "      <td>-0.0</td>\n",
              "      <td>-0.5</td>\n",
              "      <td>-0.816794</td>\n",
              "      <td>-0.0</td>\n",
              "      <td>-0.129032</td>\n",
              "      <td>-1.0</td>\n",
              "      <td>-0.0</td>\n",
              "      <td>-0.666667</td>\n",
              "      <td>-1.0</td>\n",
              "    </tr>\n",
              "    <tr>\n",
              "      <th>4</th>\n",
              "      <td>-0.583333</td>\n",
              "      <td>-0.0</td>\n",
              "      <td>-0.000000</td>\n",
              "      <td>-0.245283</td>\n",
              "      <td>-0.520548</td>\n",
              "      <td>-0.0</td>\n",
              "      <td>-0.5</td>\n",
              "      <td>-0.702290</td>\n",
              "      <td>-1.0</td>\n",
              "      <td>-0.096774</td>\n",
              "      <td>-1.0</td>\n",
              "      <td>-0.0</td>\n",
              "      <td>-0.666667</td>\n",
              "      <td>-1.0</td>\n",
              "    </tr>\n",
              "  </tbody>\n",
              "</table>\n",
              "</div>"
            ],
            "text/plain": [
              "        age  sex        cp  trestbps  ...  slope   ca      thal  target\n",
              "0 -0.708333 -1.0 -1.000000 -0.481132  ...   -0.0 -0.0 -0.333333    -1.0\n",
              "1 -0.166667 -1.0 -0.666667 -0.339623  ...   -0.0 -0.0 -0.666667    -1.0\n",
              "2 -0.250000 -0.0 -0.333333 -0.339623  ...   -1.0 -0.0 -0.666667    -1.0\n",
              "3 -0.562500 -1.0 -0.333333 -0.245283  ...   -1.0 -0.0 -0.666667    -1.0\n",
              "4 -0.583333 -0.0 -0.000000 -0.245283  ...   -1.0 -0.0 -0.666667    -1.0\n",
              "\n",
              "[5 rows x 14 columns]"
            ]
          },
          "metadata": {
            "tags": []
          },
          "execution_count": 61
        }
      ]
    },
    {
      "cell_type": "markdown",
      "metadata": {
        "id": "4YXuwSeWZBnd"
      },
      "source": [
        "**Compute the softmax score**"
      ]
    },
    {
      "cell_type": "code",
      "metadata": {
        "id": "dFDbgmx7ZOxT"
      },
      "source": [
        ""
      ],
      "execution_count": null,
      "outputs": []
    },
    {
      "cell_type": "markdown",
      "metadata": {
        "id": "KbLSXvFKZPRL"
      },
      "source": [
        "**Find the number and position of missing values**"
      ]
    },
    {
      "cell_type": "code",
      "metadata": {
        "id": "Z0Emnc7AZSwe",
        "colab": {
          "base_uri": "https://localhost:8080/"
        },
        "outputId": "25dbf1e6-7ca9-48c0-d15d-9eabcf115476"
      },
      "source": [
        "missing_count=file.isnull().sum()\r\n",
        "print(missing_count)"
      ],
      "execution_count": null,
      "outputs": [
        {
          "output_type": "stream",
          "text": [
            "age         0\n",
            "sex         0\n",
            "cp          0\n",
            "trestbps    0\n",
            "chol        0\n",
            "fbs         0\n",
            "restecg     0\n",
            "thalach     0\n",
            "exang       0\n",
            "oldpeak     0\n",
            "slope       0\n",
            "ca          0\n",
            "thal        0\n",
            "target      0\n",
            "dtype: int64\n"
          ],
          "name": "stdout"
        }
      ]
    },
    {
      "cell_type": "markdown",
      "metadata": {
        "id": "taUmQXAYQfph"
      },
      "source": [
        "No Missing value has been found "
      ]
    },
    {
      "cell_type": "markdown",
      "metadata": {
        "id": "KoO3sXk2ZTDT"
      },
      "source": [
        "**Select the rows that does not have any value**"
      ]
    },
    {
      "cell_type": "code",
      "metadata": {
        "id": "6vcxbMBOZbu1",
        "colab": {
          "base_uri": "https://localhost:8080/"
        },
        "outputId": "eaca94e7-9ab0-44f2-d7a8-b2bd7dba4d8b"
      },
      "source": [
        "row_missing=file.isnull().sum(axis = 0)\r\n",
        "print(row_missing)"
      ],
      "execution_count": null,
      "outputs": [
        {
          "output_type": "stream",
          "text": [
            "age         0\n",
            "sex         0\n",
            "cp          0\n",
            "trestbps    0\n",
            "chol        0\n",
            "fbs         0\n",
            "restecg     0\n",
            "thalach     0\n",
            "exang       0\n",
            "oldpeak     0\n",
            "slope       0\n",
            "ca          0\n",
            "thal        0\n",
            "target      0\n",
            "dtype: int64\n"
          ],
          "name": "stdout"
        }
      ]
    },
    {
      "cell_type": "markdown",
      "metadata": {
        "id": "phWKGGxRZcK2"
      },
      "source": [
        "**Find the unique values and the count of unique values**"
      ]
    },
    {
      "cell_type": "code",
      "metadata": {
        "id": "83lFnHwIZn8J",
        "colab": {
          "base_uri": "https://localhost:8080/"
        },
        "outputId": "19bf4d6f-95f5-4098-e0d7-b1aed0873374"
      },
      "source": [
        "for col in file_copy.columns:\r\n",
        "  uniq=file_copy[col].unique()\r\n",
        "  print(colored('Unique Value on','red'),colored(col,'blue'),uniq)"
      ],
      "execution_count": null,
      "outputs": [
        {
          "output_type": "stream",
          "text": [
            "\u001b[31mUnique Value on\u001b[0m \u001b[34mage\u001b[0m [63 37 41 56 57 44 52 54 48 49 64 58 50 66 43 69 59 42 61 40 71 51 65 53\n",
            " 46 45 39 47 62 34 35 29 55 60 67 68 74 76 70 38 77]\n",
            "\u001b[31mUnique Value on\u001b[0m \u001b[34msex\u001b[0m [1 0]\n",
            "\u001b[31mUnique Value on\u001b[0m \u001b[34mcp\u001b[0m [3 2 1 0]\n",
            "\u001b[31mUnique Value on\u001b[0m \u001b[34mtrestbps\u001b[0m [145 130 120 140 172 150 110 135 160 105 125 142 155 104 138 128 108 134\n",
            " 122 115 118 100 124  94 112 102 152 101 132 148 178 129 180 136 126 106\n",
            " 156 170 146 117 200 165 174 192 144 123 154 114 164]\n",
            "\u001b[31mUnique Value on\u001b[0m \u001b[34mchol\u001b[0m [233 250 204 236 354 192 294 263 199 168 239 275 266 211 283 219 340 226\n",
            " 247 234 243 302 212 175 417 197 198 177 273 213 304 232 269 360 308 245\n",
            " 208 264 321 325 235 257 216 256 231 141 252 201 222 260 182 303 265 309\n",
            " 186 203 183 220 209 258 227 261 221 205 240 318 298 564 277 214 248 255\n",
            " 207 223 288 160 394 315 246 244 270 195 196 254 126 313 262 215 193 271\n",
            " 268 267 210 295 306 178 242 180 228 149 278 253 342 157 286 229 284 224\n",
            " 206 167 230 335 276 353 225 330 290 172 305 188 282 185 326 274 164 307\n",
            " 249 341 407 217 174 281 289 322 299 300 293 184 409 259 200 327 237 218\n",
            " 319 166 311 169 187 176 241 131]\n",
            "\u001b[31mUnique Value on\u001b[0m \u001b[34mfbs\u001b[0m [1 0]\n",
            "\u001b[31mUnique Value on\u001b[0m \u001b[34mrestecg\u001b[0m [0 1 2]\n",
            "\u001b[31mUnique Value on\u001b[0m \u001b[34mthalach\u001b[0m [150 187 172 178 163 148 153 173 162 174 160 139 171 144 158 114 151 161\n",
            " 179 137 157 123 152 168 140 188 125 170 165 142 180 143 182 156 115 149\n",
            " 146 175 186 185 159 130 190 132 147 154 202 166 164 184 122 169 138 111\n",
            " 145 194 131 133 155 167 192 121  96 126 105 181 116 108 129 120 112 128\n",
            " 109 113  99 177 141 136  97 127 103 124  88 195 106  95 117  71 118 134\n",
            "  90]\n",
            "\u001b[31mUnique Value on\u001b[0m \u001b[34mexang\u001b[0m [0 1]\n",
            "\u001b[31mUnique Value on\u001b[0m \u001b[34moldpeak\u001b[0m [2.3 3.5 1.4 0.8 0.6 0.4 1.3 0.  0.5 1.6 1.2 0.2 1.8 1.  2.6 1.5 3.  2.4\n",
            " 0.1 1.9 4.2 1.1 2.  0.7 0.3 0.9 3.6 3.1 3.2 2.5 2.2 2.8 3.4 6.2 4.  5.6\n",
            " 2.9 2.1 3.8 4.4]\n",
            "\u001b[31mUnique Value on\u001b[0m \u001b[34mslope\u001b[0m [0 2 1]\n",
            "\u001b[31mUnique Value on\u001b[0m \u001b[34mca\u001b[0m [0 2 1 3 4]\n",
            "\u001b[31mUnique Value on\u001b[0m \u001b[34mthal\u001b[0m [1 2 3 0]\n",
            "\u001b[31mUnique Value on\u001b[0m \u001b[34mtarget\u001b[0m [1 0]\n"
          ],
          "name": "stdout"
        }
      ]
    },
    {
      "cell_type": "markdown",
      "metadata": {
        "id": "pumBm5Fmbf6l"
      },
      "source": [
        "We conclude every unique value for each column show restriaction that laied ."
      ]
    },
    {
      "cell_type": "markdown",
      "metadata": {
        "id": "Vxth-0O7ZogN"
      },
      "source": [
        "**Find the most frequent value of dataset**"
      ]
    },
    {
      "cell_type": "code",
      "metadata": {
        "id": "R2TSUIl2ZzAF",
        "colab": {
          "base_uri": "https://localhost:8080/"
        },
        "outputId": "4b9a1886-ab8c-4566-b3f6-60de79a70b56"
      },
      "source": [
        "for col in file_copy.columns:\r\n",
        " freq=file_copy[col].value_counts().idxmax()\r\n",
        " print(colored('Unique Value on','red'),colored(col,'blue'),freq)\r\n",
        "\r\n"
      ],
      "execution_count": null,
      "outputs": [
        {
          "output_type": "stream",
          "text": [
            "\u001b[31mUnique Value on\u001b[0m \u001b[34mage\u001b[0m 58\n",
            "\u001b[31mUnique Value on\u001b[0m \u001b[34msex\u001b[0m 1\n",
            "\u001b[31mUnique Value on\u001b[0m \u001b[34mcp\u001b[0m 0\n",
            "\u001b[31mUnique Value on\u001b[0m \u001b[34mtrestbps\u001b[0m 120\n",
            "\u001b[31mUnique Value on\u001b[0m \u001b[34mchol\u001b[0m 234\n",
            "\u001b[31mUnique Value on\u001b[0m \u001b[34mfbs\u001b[0m 0\n",
            "\u001b[31mUnique Value on\u001b[0m \u001b[34mrestecg\u001b[0m 1\n",
            "\u001b[31mUnique Value on\u001b[0m \u001b[34mthalach\u001b[0m 162\n",
            "\u001b[31mUnique Value on\u001b[0m \u001b[34mexang\u001b[0m 0\n",
            "\u001b[31mUnique Value on\u001b[0m \u001b[34moldpeak\u001b[0m 0.0\n",
            "\u001b[31mUnique Value on\u001b[0m \u001b[34mslope\u001b[0m 2\n",
            "\u001b[31mUnique Value on\u001b[0m \u001b[34mca\u001b[0m 0\n",
            "\u001b[31mUnique Value on\u001b[0m \u001b[34mthal\u001b[0m 2\n",
            "\u001b[31mUnique Value on\u001b[0m \u001b[34mtarget\u001b[0m 1\n"
          ],
          "name": "stdout"
        }
      ]
    },
    {
      "cell_type": "markdown",
      "metadata": {
        "id": "SQFH0TCXfFW6"
      },
      "source": [
        "so we conclude that men has more precentge to get heart disease"
      ]
    },
    {
      "cell_type": "markdown",
      "metadata": {
        "id": "fPQjFHNaiO80"
      },
      "source": [
        "> Write the structure  of your dataset here \r\n",
        "\r\n",
        "\r\n"
      ]
    },
    {
      "cell_type": "markdown",
      "metadata": {
        "id": "IcrBWTGeii2C"
      },
      "source": [
        "----"
      ]
    },
    {
      "cell_type": "markdown",
      "metadata": {
        "id": "wJY9c-bDYPtI"
      },
      "source": [
        "# Type of data analysis\r\n",
        "## Univariate\r\n",
        "> is a term commonly used in statistics to describe a type of data which consists of observations on only a single characteristic or attribute.\r\n",
        "\r\n",
        ">Univariate analysis is the simplest form of analyzing data. “Uni” means “one”, so in other words your data has only one variable.\r\n",
        "\r\n",
        "## Bivariate\r\n",
        ">In statistics, bivariate data is data on each of two variables, where each value of one of the variables is paired with a value of the other variable. Typically it would be of interest to investigate the possible association between the two variables.\r\n",
        "\r\n",
        ">Bivariate analysis is one of the simplest forms of quantitative (statistical) analysis. It involves the analysis of two variables (often denoted as X, Y), for the purpose of determining the empirical relationship between them.\r\n",
        "\r\n",
        "## Multivariate\r\n",
        ">Multivariate statistics is a subdivision of statistics encompassing the simultaneous observation and analysis of more than one outcome variable. The application of multivariate statistics is multivariate analysis.\r\n",
        "\r\n",
        ">Multivariate analysis is based on the principles of multivariate statistics, which involves observation and analysis of more than one statistical outcome variable at a time.\r\n",
        "\r\n",
        "![picture](https://drive.google.com/uc?export=view&id=1ors5QRIf6ISa-aidarRJ6A0-ueY31hk9)"
      ]
    },
    {
      "cell_type": "markdown",
      "metadata": {
        "id": "ZwTp__cDim-H"
      },
      "source": [
        "------"
      ]
    },
    {
      "cell_type": "markdown",
      "metadata": {
        "id": "cWOtrSAzXzzU"
      },
      "source": [
        "# Univariate\r\n",
        "> Make at least one chart\r\n",
        ",write your observation under every chart"
      ]
    },
    {
      "cell_type": "code",
      "metadata": {
        "id": "zzdL3jIIfG9S",
        "colab": {
          "base_uri": "https://localhost:8080/",
          "height": 265
        },
        "outputId": "fe05d2bb-f47d-476f-b485-b51a1e97a1b9"
      },
      "source": [
        "\r\n",
        "fig, ax = plt.subplots()\r\n",
        "file['sex'].hist()\r\n",
        "pyplot.show()\r\n",
        "\r\n",
        "\r\n"
      ],
      "execution_count": null,
      "outputs": [
        {
          "output_type": "display_data",
          "data": {
            "image/png": "[encoded data removed]",
            "text/plain": [
              "<Figure size 432x288 with 1 Axes>"
            ]
          },
          "metadata": {
            "tags": [],
            "needs_background": "light"
          }
        }
      ]
    },
    {
      "cell_type": "markdown",
      "metadata": {
        "id": "rOz3SP8visz3"
      },
      "source": [
        "------"
      ]
    },
    {
      "cell_type": "markdown",
      "metadata": {
        "id": "AL8zKDe2fkIS"
      },
      "source": [
        "# Bivariate\r\n",
        "> Make at least one chart\r\n",
        ",write your observation under every chart"
      ]
    },
    {
      "cell_type": "code",
      "metadata": {
        "id": "zM00AGX2frJf",
        "colab": {
          "base_uri": "https://localhost:8080/",
          "height": 296
        },
        "outputId": "d84a0a7b-0f7e-4f64-d389-3cf2a72bf1c8"
      },
      "source": [
        "file[file['age'] < 100].sample(100).plot.scatter(x='age', y='target')"
      ],
      "execution_count": null,
      "outputs": [
        {
          "output_type": "execute_result",
          "data": {
            "text/plain": [
              "<matplotlib.axes._subplots.AxesSubplot at 0x7f552fbeae48>"
            ]
          },
          "metadata": {
            "tags": []
          },
          "execution_count": 21
        },
        {
          "output_type": "display_data",
          "data": {
            "image/png": "[encoded data removed]",
            "text/plain": [
              "<Figure size 432x288 with 1 Axes>"
            ]
          },
          "metadata": {
            "tags": [],
            "needs_background": "light"
          }
        }
      ]
    },
    {
      "cell_type": "markdown",
      "metadata": {
        "id": "EzQ9jKZoiwRo"
      },
      "source": [
        "----\r\n"
      ]
    },
    {
      "cell_type": "markdown",
      "metadata": {
        "id": "1yDGR2Rbft1y"
      },
      "source": [
        "# Multivariate\r\n",
        "> Make at least one chart\r\n",
        ",write your observation under every chart"
      ]
    },
    {
      "cell_type": "code",
      "metadata": {
        "id": "hwl7xJZOf2Jn",
        "colab": {
          "base_uri": "https://localhost:8080/",
          "height": 643
        },
        "outputId": "148fad79-bde8-43ef-8ec0-89b374afed87"
      },
      "source": [
        "fig, ax = plt.subplots(figsize=(10,10))\r\n",
        "se.heatmap(file.corr(),annot=True,center=0,linewidths=.5,vmax=0.3,ax=ax)\r\n"
      ],
      "execution_count": null,
      "outputs": [
        {
          "output_type": "execute_result",
          "data": {
            "text/plain": [
              "<matplotlib.axes._subplots.AxesSubplot at 0x7ffb306c2630>"
            ]
          },
          "metadata": {
            "tags": []
          },
          "execution_count": 13
        },
        {
          "output_type": "display_data",
          "data": {
            "image/png": "[encoded data removed]",
            "text/plain": [
              "<Figure size 720x720 with 2 Axes>"
            ]
          },
          "metadata": {
            "tags": [],
            "needs_background": "light"
          }
        }
      ]
    },
    {
      "cell_type": "markdown",
      "metadata": {
        "id": "VcLDlOtKiy1Z"
      },
      "source": [
        "----"
      ]
    },
    {
      "cell_type": "markdown",
      "metadata": {
        "id": "3vqJDLTJgzYX"
      },
      "source": [
        "# SUMMERY\r\n",
        " \r\n",
        "\r\n"
      ]
    },
    {
      "cell_type": "markdown",
      "metadata": {
        "id": "KZzmylZGhbfm"
      },
      "source": [
        ">here write your summery about dataset"
      ]
    },
    {
      "cell_type": "code",
      "metadata": {
        "id": "VyyZKrlEGGQK"
      },
      "source": [
        ""
      ],
      "execution_count": null,
      "outputs": []
    },
    {
      "cell_type": "markdown",
      "metadata": {
        "id": "VhcFXGW8hVcf"
      },
      "source": [
        ">List at least three insights.\r\n",
        "\r\n",
        "1. logically the heart disease increase with age but the data shows there is no big realtion with .\r\n",
        "1. most the sick people are men\r\n",
        "1. thal and cp feature are the most factors affect the target value.\r\n",
        "\r\n",
        "\r\n",
        "\r\n"
      ]
    },
    {
      "cell_type": "markdown",
      "metadata": {
        "id": "t7pG46rTkPPF"
      },
      "source": [
        "# Useful references"
      ]
    },
    {
      "cell_type": "markdown",
      "metadata": {
        "id": "tAmRUazckcnL"
      },
      "source": [
        "* [Python Guide](https://docs.python.org/3/tutorial/index.html)  \r\n",
        "[Python Guide](https://www.w3schools.com/python/)\r\n",
        "* [Data Cleaning Guide](https://towardsdatascience.com/data-cleaning-in-python-the-ultimate-guide-2020-c63b88bf0a0d)\r\n",
        "* [Pandas Guide](https://pandas.pydata.org/docs/user_guide/index.html)\r\n",
        "* [Matplotlib Examples](https://matplotlib.org/gallery/index.html)\r\n",
        "\r\n",
        "* [Seaborn Examples](https://seaborn.pydata.org/examples/index.html)\r\n",
        "\r\n"
      ]
    }
  ]
}